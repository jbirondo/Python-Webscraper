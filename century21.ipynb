{
  "nbformat": 4,
  "nbformat_minor": 0,
  "metadata": {
    "colab": {
      "name": "century21.ipynb",
      "provenance": [],
      "authorship_tag": "ABX9TyM5CyI6+nRy5QtMSh3QtjJs",
      "include_colab_link": true
    },
    "kernelspec": {
      "name": "python3",
      "display_name": "Python 3"
    }
  },
  "cells": [
    {
      "cell_type": "markdown",
      "metadata": {
        "id": "view-in-github",
        "colab_type": "text"
      },
      "source": [
        "<a href=\"https://colab.research.google.com/github/jbirondo/Python-Webscraper/blob/master/century21.ipynb\" target=\"_parent\"><img src=\"https://colab.research.google.com/assets/colab-badge.svg\" alt=\"Open In Colab\"/></a>"
      ]
    },
    {
      "cell_type": "code",
      "metadata": {
        "id": "prrbCQ-hbzGs",
        "colab_type": "code",
        "colab": {}
      },
      "source": [
        "import requests\n",
        "from bs4 import BeautifulSoup\n",
        "\n",
        "r = requests.get(\"http://www.pyclass.com/real-estate/rock-springs-wy/LCWYROCKSPRINGS/\", headers={'User-agent': 'Mozilla/5.0 (X11; Ubuntu; Linux x86_64; rv:61.0) Gecko/20100101 Firefox/61.0'})\n",
        "c = r.content\n",
        "\n",
        "soup = BeautifulSoup(c, \"html.parser\")\n",
        "\n",
        "all = soup.find_all(\"div\",{\"class\":\"propertyRow\"})"
      ],
      "execution_count": null,
      "outputs": []
    },
    {
      "cell_type": "code",
      "metadata": {
        "id": "UaiQCNere8UT",
        "colab_type": "code",
        "colab": {}
      },
      "source": [
        "# all[0].find(\"h4\", {\"class\":\"propPrice\"}).text.replace(\"\\n\",\"\").strip()"
      ],
      "execution_count": null,
      "outputs": []
    },
    {
      "cell_type": "code",
      "metadata": {
        "id": "4aIRdyE4jot8",
        "colab_type": "code",
        "colab": {}
      },
      "source": [
        "l = []\n",
        "for item in all:\n",
        "  d = {}\n",
        "  d[\"Address\"] = item.find_all(\"span\", {\"class\":\"propAddressCollapse\"})[0].text\n",
        "  d[\"Locality\"] = item.find_all(\"span\", {\"class\":\"propAddressCollapse\"})[1].text\n",
        "  d[\"Price\"] = item.find(\"h4\", {\"class\": \"propPrice\"}).text.replace(\"\\n\", \"\").strip()\n",
        "  try:\n",
        "    d[\"Beds\"] = item.find(\"span\", {\"class\": \"infoBed\"}).find(\"b\").text\n",
        "  except:\n",
        "    d[\"Beds\"] = None\n",
        "  try:\n",
        "    d[\"Area\"] = item.find(\"span\", {\"class\": \"infoSqFt\"}).find(\"b\").text\n",
        "  except:\n",
        "    d[\"Area\"] = None\n",
        "  try:\n",
        "    d[\"Full Baths\"] = item.find(\"span\", {\"class\": \"infoValueFullBath\"}).find(\"b\").text\n",
        "  except:\n",
        "    d[\"Full Baths\"] = None\n",
        "  try:\n",
        "    d[\"Half Baths\"] = item.find(\"span\", {\"class\": \"infoValueHalfBath\"}).find(\"b\").text\n",
        "  except:\n",
        "    d[\"Half Baths\"] = None\n",
        "\n",
        "  for column_group in item.find_all(\"div\", {\"class\":\"columnGroup\"}):\n",
        "    for feature_group, feature_name in zip(column_group.find_all(\"span\", {\"class\":\"featureGroup\"}), column_group.find_all(\"span\", {\"class\": \"featureName\"})):\n",
        "      try:\n",
        "        if \"Lot Size\" in feature_group.text:\n",
        "          d[\"Lot Size\"] = feature_name.text\n",
        "      except:\n",
        "        d[\"Lot Size\"] = None\n",
        "\n",
        "  l.append(d)\n",
        "\n",
        "import pandas\n",
        "\n",
        "df = pandas.DataFrame(l)\n",
        "\n",
        "df.to_csv(\"output.csv\")\n",
        "\n",
        "  \n",
        "\n"
      ],
      "execution_count": 44,
      "outputs": []
    }
  ]
}